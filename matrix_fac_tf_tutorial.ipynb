{
 "cells": [
  {
   "cell_type": "code",
   "execution_count": 13,
   "metadata": {
    "collapsed": true
   },
   "outputs": [],
   "source": [
    "import tensorflow as tf\n",
    "import pandas as pd\n",
    "import numpy as np\n"
   ]
  },
  {
   "cell_type": "code",
   "execution_count": 39,
   "metadata": {},
   "outputs": [
    {
     "data": {
      "text/plain": [
       "array([[ 5.,  3.,  0.,  1.],\n       [ 4.,  0.,  0.,  1.],\n       [ 1.,  1.,  0.,  5.],\n       [ 1.,  0.,  0.,  4.],\n       [ 0.,  1.,  5.,  4.]], dtype=float32)"
      ]
     },
     "execution_count": 39,
     "metadata": {},
     "output_type": "execute_result"
    }
   ],
   "source": [
    "d = {\n",
    "    'U1': [5, 3, np.nan, 1],\n",
    "    'U2': [4, np.nan, np.nan, 1],\n",
    "    'U3': [1, 1, np.nan, 5],\n",
    "    'U4': [1, np.nan, np.nan, 4],\n",
    "    'U5': [np.nan, 1, 5, 4]\n",
    "}\n",
    "df = pd.DataFrame(data=d, index=['D1', 'D2', 'D3', 'D4']).transpose()\n",
    "mtx = df.fillna(0).as_matrix().astype(np.float32)\n",
    "mtx"
   ]
  },
  {
   "cell_type": "code",
   "execution_count": 40,
   "metadata": {},
   "outputs": [
    {
     "data": {
      "text/plain": [
       "array([[ True,  True, False,  True],\n       [ True, False, False,  True],\n       [ True,  True, False,  True],\n       [ True, False, False,  True],\n       [False,  True,  True,  True]], dtype=bool)"
      ]
     },
     "execution_count": 40,
     "metadata": {},
     "output_type": "execute_result"
    }
   ],
   "source": [
    "np_mask = df.notnull()\n",
    "np_mask.values"
   ]
  },
  {
   "cell_type": "markdown",
   "metadata": {},
   "source": [
    "mtx = p.dot(q.T) = mtx_est"
   ]
  },
  {
   "cell_type": "code",
   "execution_count": 41,
   "metadata": {},
   "outputs": [],
   "source": [
    "n_dim = mtx.shape[0]\n",
    "m_dim = mtx.shape[1]\n",
    "k = 2\n",
    "\n",
    "p = np.random.rand(n_dim, k).astype(np.float32)\n",
    "q = np.random.rand(m_dim, k).astype(np.float32)"
   ]
  },
  {
   "cell_type": "code",
   "execution_count": 43,
   "metadata": {},
   "outputs": [
    {
     "name": "stdout",
     "output_type": "stream",
     "text": [
      "Step: 0 loss: 100.836136\n"
     ]
    },
    {
     "name": "stdout",
     "output_type": "stream",
     "text": [
      "Step: 1000 loss: 28.418032\n"
     ]
    },
    {
     "name": "stdout",
     "output_type": "stream",
     "text": [
      "Step: 2000 loss: 19.452719\n"
     ]
    },
    {
     "name": "stdout",
     "output_type": "stream",
     "text": [
      "Step: 3000 loss: 0.650289\n"
     ]
    },
    {
     "name": "stdout",
     "output_type": "stream",
     "text": [
      "Step: 4000 loss: 0.236160\n"
     ]
    },
    {
     "name": "stdout",
     "output_type": "stream",
     "text": [
      "[[ 5.02362537  2.93818951  4.18982077  0.99471891]\n [ 3.97791243  2.33414936  3.50238371  0.99227667]\n [ 1.07790232  0.80703026  5.20754099  4.9862833 ]\n [ 0.96085811  0.70238823  4.22705317  3.98509645]\n [ 1.89616084  1.24539995  4.90896702  4.06156635]]\n"
     ]
    }
   ],
   "source": [
    "assert mtx.dtype == np.float32\n",
    "assert mtx.shape == (5, 4)\n",
    "\n",
    "tf_mask = tf.Variable(np_mask.values)\n",
    "\n",
    "mtx_ph = tf.placeholder(dtype=tf.float32, shape=mtx.shape, name='inp_mtx_ph')\n",
    "\n",
    "p_t = tf.Variable(initial_value=p, trainable=True, name='p_matrix')\n",
    "q_t = tf.Variable(initial_value=q, trainable=True, name='q_matrix')\n",
    "pqdot_t = tf.matmul(p_t, q_t, transpose_a=False, transpose_b=True)\n",
    "loss = tf.reduce_sum(tf.square((tf.boolean_mask(mtx_ph, tf_mask) - tf.boolean_mask(pqdot_t, tf_mask))))\n",
    "\n",
    "gradient_step = tf.train.GradientDescentOptimizer(learning_rate=.0002)\n",
    "train = gradient_step.minimize(loss)\n",
    "\n",
    "init = tf.global_variables_initializer()\n",
    "\n",
    "with tf.Session() as sess:\n",
    "    sess.run(init)\n",
    "    for step in range(5000):\n",
    "        sess.run(train, feed_dict={mtx_ph: mtx})\n",
    "        if step % 1000 == 0:\n",
    "            print('Step: %i loss: %f' % (step, sess.run(loss, feed_dict={mtx_ph: mtx})))\n",
    "        \n",
    "    a = sess.run(pqdot_t)\n",
    "    print(a)\n",
    "\n"
   ]
  },
  {
   "cell_type": "code",
   "execution_count": 27,
   "metadata": {},
   "outputs": [
    {
     "data": {
      "text/plain": [
       "array([[ 25.,   9.,   0.,   1.],\n       [ 16.,   0.,   0.,   1.],\n       [  1.,   1.,   0.,  25.],\n       [  1.,   0.,   0.,  16.],\n       [  0.,   1.,  25.,  16.]], dtype=float32)"
      ]
     },
     "execution_count": 27,
     "metadata": {},
     "output_type": "execute_result"
    }
   ],
   "source": [
    "np.square(mtx)"
   ]
  },
  {
   "cell_type": "code",
   "execution_count": null,
   "metadata": {},
   "outputs": [],
   "source": []
  }
 ],
 "metadata": {
  "kernelspec": {
   "display_name": "Python 2",
   "language": "python",
   "name": "python2"
  },
  "language_info": {
   "codemirror_mode": {
    "name": "ipython",
    "version": 2
   },
   "file_extension": ".py",
   "mimetype": "text/x-python",
   "name": "python",
   "nbconvert_exporter": "python",
   "pygments_lexer": "ipython2",
   "version": "2.7.6"
  }
 },
 "nbformat": 4,
 "nbformat_minor": 0
}
